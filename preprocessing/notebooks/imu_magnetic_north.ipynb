{
 "cells": [
  {
   "cell_type": "code",
   "execution_count": 1,
   "metadata": {},
   "outputs": [],
   "source": [
    "import numpy as np\n",
    "import sys\n",
    "sys.path.insert(1,'/home/zhanibek/.local/lib/python2.7/site-packages/cv2')\n",
    "sys.path.insert(1,'/home/zhanibek/catkin_ws/src/smart_tray/scripts/')\n",
    "import cv2 \n",
    "import matplotlib.pyplot as plt\n",
    "import os\n",
    "from tqdm import tqdm_notebook\n",
    "import pickle\n",
    "import pandas as pd\n",
    "from phri.utils import *\n",
    "import scipy.io as sio\n",
    "\n",
    "import plotly as py\n",
    "import plotly.graph_objs as go\n",
    "import ipywidgets as widgets\n"
   ]
  },
  {
   "cell_type": "code",
   "execution_count": null,
   "metadata": {},
   "outputs": [],
   "source": []
  },
  {
   "cell_type": "code",
   "execution_count": 2,
   "metadata": {},
   "outputs": [],
   "source": [
    "calib_data_path = '/home/zhanibek/codes/phhi_data_analysis/data/magnetic_north_2020-11-10-12-20-40.pkl'"
   ]
  },
  {
   "cell_type": "code",
   "execution_count": 3,
   "metadata": {},
   "outputs": [],
   "source": [
    "data_df = pickle.load(open(calib_data_path))"
   ]
  },
  {
   "cell_type": "code",
   "execution_count": 4,
   "metadata": {},
   "outputs": [
    {
     "data": {
      "text/html": [
       "<div>\n",
       "<style scoped>\n",
       "    .dataframe tbody tr th:only-of-type {\n",
       "        vertical-align: middle;\n",
       "    }\n",
       "\n",
       "    .dataframe tbody tr th {\n",
       "        vertical-align: top;\n",
       "    }\n",
       "\n",
       "    .dataframe thead th {\n",
       "        text-align: right;\n",
       "    }\n",
       "</style>\n",
       "<table border=\"1\" class=\"dataframe\">\n",
       "  <thead>\n",
       "    <tr style=\"text-align: right;\">\n",
       "      <th></th>\n",
       "      <th>seq</th>\n",
       "      <th>time_stamp</th>\n",
       "      <th>frame_id</th>\n",
       "      <th>accel</th>\n",
       "      <th>gyro</th>\n",
       "      <th>mag</th>\n",
       "    </tr>\n",
       "  </thead>\n",
       "  <tbody>\n",
       "    <tr>\n",
       "      <th>0</th>\n",
       "      <td>7512</td>\n",
       "      <td>1.602505e+09</td>\n",
       "      <td>LSM9DS1_IMU_SENSOR_DATA</td>\n",
       "      <td>[0.1495819091796875, -0.035899658203125004, 10...</td>\n",
       "      <td>[6.407623291015625, -21.256561279296875, -7.25...</td>\n",
       "      <td>[0.032340001314878464, 0.325080007314682, -0.3...</td>\n",
       "    </tr>\n",
       "    <tr>\n",
       "      <th>1</th>\n",
       "      <td>7513</td>\n",
       "      <td>1.602505e+09</td>\n",
       "      <td>LSM9DS1_IMU_SENSOR_DATA</td>\n",
       "      <td>[0.18607989501953126, -0.054447814941406256, 1...</td>\n",
       "      <td>[6.407623291015625, -21.017303466796875, -7.11...</td>\n",
       "      <td>[0.029400000348687172, 0.32732000946998596, -0...</td>\n",
       "    </tr>\n",
       "    <tr>\n",
       "      <th>2</th>\n",
       "      <td>7514</td>\n",
       "      <td>1.602505e+09</td>\n",
       "      <td>LSM9DS1_IMU_SENSOR_DATA</td>\n",
       "      <td>[0.17710498046875, -0.058636108398437504, 10.5...</td>\n",
       "      <td>[6.527252197265625, -21.15936279296875, -7.342...</td>\n",
       "      <td>[0.03262000158429146, 0.3256400227546692, -0.3...</td>\n",
       "    </tr>\n",
       "    <tr>\n",
       "      <th>3</th>\n",
       "      <td>7515</td>\n",
       "      <td>1.602505e+09</td>\n",
       "      <td>LSM9DS1_IMU_SENSOR_DATA</td>\n",
       "      <td>[0.19026818847656252, -0.025129760742187503, 1...</td>\n",
       "      <td>[6.527252197265625, -21.15936279296875, -7.170...</td>\n",
       "      <td>[0.03318000212311745, 0.3256400227546692, -0.3...</td>\n",
       "    </tr>\n",
       "    <tr>\n",
       "      <th>4</th>\n",
       "      <td>7516</td>\n",
       "      <td>1.602505e+09</td>\n",
       "      <td>LSM9DS1_IMU_SENSOR_DATA</td>\n",
       "      <td>[0.20163641357421877, -0.07120098876953125, 10...</td>\n",
       "      <td>[6.557159423828125, -20.897674560546875, -7.28...</td>\n",
       "      <td>[0.03150000050663948, 0.32886001467704773, -0....</td>\n",
       "    </tr>\n",
       "  </tbody>\n",
       "</table>\n",
       "</div>"
      ],
      "text/plain": [
       "    seq    time_stamp                 frame_id  \\\n",
       "0  7512  1.602505e+09  LSM9DS1_IMU_SENSOR_DATA   \n",
       "1  7513  1.602505e+09  LSM9DS1_IMU_SENSOR_DATA   \n",
       "2  7514  1.602505e+09  LSM9DS1_IMU_SENSOR_DATA   \n",
       "3  7515  1.602505e+09  LSM9DS1_IMU_SENSOR_DATA   \n",
       "4  7516  1.602505e+09  LSM9DS1_IMU_SENSOR_DATA   \n",
       "\n",
       "                                               accel  \\\n",
       "0  [0.1495819091796875, -0.035899658203125004, 10...   \n",
       "1  [0.18607989501953126, -0.054447814941406256, 1...   \n",
       "2  [0.17710498046875, -0.058636108398437504, 10.5...   \n",
       "3  [0.19026818847656252, -0.025129760742187503, 1...   \n",
       "4  [0.20163641357421877, -0.07120098876953125, 10...   \n",
       "\n",
       "                                                gyro  \\\n",
       "0  [6.407623291015625, -21.256561279296875, -7.25...   \n",
       "1  [6.407623291015625, -21.017303466796875, -7.11...   \n",
       "2  [6.527252197265625, -21.15936279296875, -7.342...   \n",
       "3  [6.527252197265625, -21.15936279296875, -7.170...   \n",
       "4  [6.557159423828125, -20.897674560546875, -7.28...   \n",
       "\n",
       "                                                 mag  \n",
       "0  [0.032340001314878464, 0.325080007314682, -0.3...  \n",
       "1  [0.029400000348687172, 0.32732000946998596, -0...  \n",
       "2  [0.03262000158429146, 0.3256400227546692, -0.3...  \n",
       "3  [0.03318000212311745, 0.3256400227546692, -0.3...  \n",
       "4  [0.03150000050663948, 0.32886001467704773, -0....  "
      ]
     },
     "execution_count": 4,
     "metadata": {},
     "output_type": "execute_result"
    }
   ],
   "source": [
    "imu_df = data_df['/imu_data']\n",
    "imu_df.head()"
   ]
  },
  {
   "cell_type": "code",
   "execution_count": 5,
   "metadata": {},
   "outputs": [
    {
     "data": {
      "text/html": [
       "<div>\n",
       "<style scoped>\n",
       "    .dataframe tbody tr th:only-of-type {\n",
       "        vertical-align: middle;\n",
       "    }\n",
       "\n",
       "    .dataframe tbody tr th {\n",
       "        vertical-align: top;\n",
       "    }\n",
       "\n",
       "    .dataframe thead th {\n",
       "        text-align: right;\n",
       "    }\n",
       "</style>\n",
       "<table border=\"1\" class=\"dataframe\">\n",
       "  <thead>\n",
       "    <tr style=\"text-align: right;\">\n",
       "      <th></th>\n",
       "      <th>topic_name</th>\n",
       "      <th>message_count</th>\n",
       "      <th>frequency</th>\n",
       "      <th>msg_type</th>\n",
       "      <th>start_time</th>\n",
       "      <th>end_time</th>\n",
       "    </tr>\n",
       "  </thead>\n",
       "  <tbody>\n",
       "    <tr>\n",
       "      <th>0</th>\n",
       "      <td>/imu_data</td>\n",
       "      <td>34054</td>\n",
       "      <td>77.395678</td>\n",
       "      <td>smart_tray/imu_msg</td>\n",
       "      <td>1.605032e+09</td>\n",
       "      <td>1.605033e+09</td>\n",
       "    </tr>\n",
       "  </tbody>\n",
       "</table>\n",
       "</div>"
      ],
      "text/plain": [
       "  topic_name  message_count  frequency            msg_type    start_time  \\\n",
       "0  /imu_data          34054  77.395678  smart_tray/imu_msg  1.605032e+09   \n",
       "\n",
       "       end_time  \n",
       "0  1.605033e+09  "
      ]
     },
     "execution_count": 5,
     "metadata": {},
     "output_type": "execute_result"
    }
   ],
   "source": [
    "data_df['summary']"
   ]
  },
  {
   "cell_type": "code",
   "execution_count": 6,
   "metadata": {},
   "outputs": [],
   "source": [
    "t = imu_df['time_stamp'].to_numpy()\n",
    "\n",
    "accel = imu_df['accel'].to_numpy()\n",
    "accel = np.array([[f[0],f[1],f[2]] for f in accel])\n",
    "\n",
    "mag = imu_df['mag'].to_numpy()\n",
    "mag = np.array([[f[0],f[1],f[2]] for f in mag])\n",
    "\n",
    "gyro = imu_df['gyro'].to_numpy()\n",
    "gyro = np.array([[f[0],f[1],f[2]] for f in gyro])"
   ]
  },
  {
   "cell_type": "code",
   "execution_count": null,
   "metadata": {},
   "outputs": [],
   "source": []
  },
  {
   "cell_type": "code",
   "execution_count": 7,
   "metadata": {},
   "outputs": [],
   "source": [
    "sio.savemat('/home/zhanibek/codes/phhi_data_analysis/data/magnetic_north.mat',\n",
    "            {'t':t,'mag':mag, 'accel':accel, 'gyro':gyro})"
   ]
  },
  {
   "cell_type": "code",
   "execution_count": null,
   "metadata": {},
   "outputs": [],
   "source": []
  },
  {
   "cell_type": "code",
   "execution_count": null,
   "metadata": {},
   "outputs": [],
   "source": []
  },
  {
   "cell_type": "code",
   "execution_count": null,
   "metadata": {},
   "outputs": [],
   "source": []
  }
 ],
 "metadata": {
  "kernelspec": {
   "display_name": "Python 2",
   "language": "python",
   "name": "python2"
  },
  "language_info": {
   "codemirror_mode": {
    "name": "ipython",
    "version": 2
   },
   "file_extension": ".py",
   "mimetype": "text/x-python",
   "name": "python",
   "nbconvert_exporter": "python",
   "pygments_lexer": "ipython2",
   "version": "2.7.12"
  }
 },
 "nbformat": 4,
 "nbformat_minor": 2
}
